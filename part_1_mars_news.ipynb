{
 "cells": [
  {
   "cell_type": "markdown",
   "metadata": {},
   "source": [
    "# Module 12 Challenge\n",
    "## Deliverable 1: Scrape Titles and Preview Text from Mars News"
   ]
  },
  {
   "cell_type": "code",
   "execution_count": 5,
   "metadata": {},
   "outputs": [],
   "source": [
    "# Import Splinter and BeautifulSoup\n",
    "from splinter import Browser\n",
    "from bs4 import BeautifulSoup as soup"
   ]
  },
  {
   "cell_type": "code",
   "execution_count": 6,
   "metadata": {
    "scrolled": true
   },
   "outputs": [],
   "source": [
    "#create chrome path \n",
    "chrome_path = r\"/opt/homebrew/bin/chromedriver\"\n",
    "\n",
    "browser = Browser('chrome', executable_path = chrome_path)"
   ]
  },
  {
   "cell_type": "markdown",
   "metadata": {},
   "source": [
    "### Step 1: Visit the Website\n",
    "\n",
    "1. Use automated browsing to visit the [Mars news site](https://static.bc-edx.com/data/web/mars_news/index.html). Inspect the page to identify which elements to scrape.\n",
    "\n",
    "      > **Hint** To identify which elements to scrape, you might want to inspect the page by using Chrome DevTools."
   ]
  },
  {
   "cell_type": "code",
   "execution_count": 7,
   "metadata": {},
   "outputs": [],
   "source": [
    "# Visit the Mars news site\n",
    "url = 'https://static.bc-edx.com/data/web/mars_news/index.html'\n",
    "browser.visit(url)"
   ]
  },
  {
   "cell_type": "markdown",
   "metadata": {},
   "source": [
    "### Step 2: Scrape the Website\n",
    "\n",
    "Create a Beautiful Soup object and use it to extract text elements from the website."
   ]
  },
  {
   "cell_type": "code",
   "execution_count": 8,
   "metadata": {},
   "outputs": [],
   "source": [
    "# Create a Beautiful Soup object\n",
    "html = browser.html\n",
    "soup = soup(html, 'html.parser')"
   ]
  },
  {
   "cell_type": "code",
   "execution_count": 9,
   "metadata": {},
   "outputs": [],
   "source": [
    "# Extract all the text elements\n",
    "text_elements = soup.find_all('div', class_='list_text')\n",
    "teaser_body = soup.find_all('div', 'article_teaser_body')"
   ]
  },
  {
   "cell_type": "markdown",
   "metadata": {},
   "source": [
    "### Step 3: Store the Results\n",
    "\n",
    "Extract the titles and preview text of the news articles that you scraped. Store the scraping results in Python data structures as follows:\n",
    "\n",
    "* Store each title-and-preview pair in a Python dictionary. And, give each dictionary two keys: `title` and `preview`. An example is the following:\n",
    "\n",
    "  ```python\n",
    "  {'title': \"NASA's MAVEN Observes Martian Light Show Caused by Major Solar Storm\", \n",
    "   'preview': \"For the first time in its eight years orbiting Mars, NASA’s MAVEN mission witnessed two different types of ultraviolet aurorae simultaneously, the result of solar storms that began on Aug. 27.\"\n",
    "  }\n",
    "  ```\n",
    "\n",
    "* Store all the dictionaries in a Python list.\n",
    "\n",
    "* Print the list in your notebook."
   ]
  },
  {
   "cell_type": "code",
   "execution_count": 10,
   "metadata": {},
   "outputs": [],
   "source": [
    "# Create an empty list to store the dictionaries\n",
    "store = []\n"
   ]
  },
  {
   "cell_type": "code",
   "execution_count": 12,
   "metadata": {},
   "outputs": [],
   "source": [
    "# Loop through the text elements\n",
    "# Extract the title and preview text from the elements\n",
    "# Store each title and preview pair in a dictionary\n",
    "# Add the dictionary to the list\n",
    "for title, data in zip(text_elements, teaser_body):\n",
    "    title_text = title.get_text()\n",
    "    data_text = data.get_text()\n",
    "    title_preview = {'Title': title_text, \n",
    "                     'Preview': data_text}\n",
    "    store.append(title_preview)"
   ]
  },
  {
   "cell_type": "code",
   "execution_count": 13,
   "metadata": {},
   "outputs": [
    {
     "name": "stdout",
     "output_type": "stream",
     "text": [
      "[{'Title': \"\\nNovember 9, 2022\\nNASA's MAVEN Observes Martian Light Show Caused by Major Solar Storm\\nFor the first time in its eight years orbiting Mars, NASA’s MAVEN mission witnessed two different types of ultraviolet aurorae simultaneously, the result of solar storms that began on Aug. 27.\\n\", 'Preview': 'For the first time in its eight years orbiting Mars, NASA’s MAVEN mission witnessed two different types of ultraviolet aurorae simultaneously, the result of solar storms that began on Aug. 27.'}, {'Title': \"\\nNovember 1, 2022\\nNASA Prepares to Say 'Farewell' to InSight Spacecraft\\nA closer look at what goes into wrapping up the mission as the spacecraft’s power supply continues to dwindle.\\n\", 'Preview': 'A closer look at what goes into wrapping up the mission as the spacecraft’s power supply continues to dwindle.'}, {'Title': '\\nOctober 28, 2022\\nNASA and ESA Agree on Next Steps to Return Mars Samples to Earth\\nThe agency’s Perseverance rover will establish the first sample depot on Mars.\\n', 'Preview': 'The agency’s Perseverance rover will establish the first sample depot on Mars.'}, {'Title': \"\\nOctober 27, 2022\\nNASA's InSight Lander Detects Stunning Meteoroid Impact on Mars\\nThe agency’s lander felt the ground shake during the impact while cameras aboard the Mars Reconnaissance Orbiter spotted the yawning new crater from space.\\n\", 'Preview': 'The agency’s lander felt the ground shake during the impact while cameras aboard the Mars Reconnaissance Orbiter spotted the yawning new crater from space.'}, {'Title': '\\nOctober 21, 2022\\nNASA To Host Briefing on InSight, Mars Reconnaissance Orbiter Findings\\nScientists from two Mars missions will discuss how they combined images and data for a major finding on the Red Planet.\\n', 'Preview': 'Scientists from two Mars missions will discuss how they combined images and data for a major finding on the Red Planet.'}, {'Title': '\\nOctober 20, 2022\\nWhy NASA Is Trying To Crash Land on Mars\\nLike a car’s crumple zone, the experimental SHIELD lander is designed to absorb a hard impact.\\n', 'Preview': 'Like a car’s crumple zone, the experimental SHIELD lander is designed to absorb a hard impact.'}, {'Title': '\\nOctober 19, 2022\\nCuriosity Mars Rover Reaches Long-Awaited Salty Region\\nAfter years of climbing, the Mars rover has arrived at a special region believed to have formed as Mars’ climate was drying.\\n', 'Preview': 'After years of climbing, the Mars rover has arrived at a special region believed to have formed as Mars’ climate was drying.'}, {'Title': '\\nOctober 12, 2022\\nMars Mission Shields Up for Tests\\nProtecting Mars Sample Return spacecraft from micrometeorites requires high-caliber work.\\n', 'Preview': 'Protecting Mars Sample Return spacecraft from micrometeorites requires high-caliber work.'}, {'Title': \"\\nOctober 7, 2022\\nNASA's InSight Waits Out Dust Storm\\nInSight’s team is taking steps to help the solar-powered lander continue operating for as long as possible.\\n\", 'Preview': 'InSight’s team is taking steps to help the solar-powered lander continue operating for as long as possible.'}, {'Title': \"\\nSeptember 19, 2022\\nNASA's InSight 'Hears' Its First Meteoroid Impacts on Mars\\nThe Mars lander’s seismometer has picked up vibrations from four separate impacts in the past two years.\\n\", 'Preview': 'The Mars lander’s seismometer has picked up vibrations from four separate impacts in the past two years.'}, {'Title': \"\\nSeptember 15, 2022\\nNASA's Perseverance Rover Investigates Geologically Rich Mars Terrain\\nThe latest findings provide greater detail on a region of the Red Planet that has a watery past and is yielding promising samples for the NASA-ESA Mars Sample Return campaign.\\n\", 'Preview': 'The latest findings provide greater detail on a region of the Red Planet that has a watery past and is yielding promising samples for the NASA-ESA Mars Sample Return campaign.'}, {'Title': '\\nSeptember 12, 2022\\nNASA to Host Briefing on Perseverance Mars Rover Mission Operations\\nMembers of the mission will discuss the rover’s activities as it gathers samples in an ancient river delta.\\n', 'Preview': 'Members of the mission will discuss the rover’s activities as it gathers samples in an ancient river delta.'}, {'Title': \"\\nAugust 25, 2022\\nNASA's Perseverance Makes New Discoveries in Mars' Jezero Crater\\nThe rover found that Jezero Crater’s floor is made up of volcanic rocks that have interacted with water.\\n\", 'Preview': 'The rover found that Jezero Crater’s floor is made up of volcanic rocks that have interacted with water.'}, {'Title': \"\\nAugust 5, 2022\\n10 Years Since Landing, NASA's Curiosity Mars Rover Still Has Drive\\nDespite signs of wear, the intrepid spacecraft is about to start an exciting new chapter of its mission as it climbs a Martian mountain.\\n\", 'Preview': 'Despite signs of wear, the intrepid spacecraft is about to start an exciting new chapter of its mission as it climbs a Martian mountain.'}, {'Title': \"\\nAugust 4, 2022\\nSAM's Top 5 Discoveries Aboard NASA's Curiosity Rover at Mars\\n“Selfie” of the Curiosity rover with inset showing the SAM instrument prior to installation on the rover.\\n\", 'Preview': '“Selfie” of the Curiosity rover with inset showing the SAM instrument prior to installation on the rover.'}]\n"
     ]
    }
   ],
   "source": [
    "# Print the list to confirm success\n",
    "print(store)"
   ]
  },
  {
   "cell_type": "code",
   "execution_count": 14,
   "metadata": {},
   "outputs": [],
   "source": [
    "browser.quit()"
   ]
  },
  {
   "cell_type": "code",
   "execution_count": null,
   "metadata": {},
   "outputs": [],
   "source": []
  }
 ],
 "metadata": {
  "kernelspec": {
   "display_name": "Python 3 (ipykernel)",
   "language": "python",
   "name": "python3"
  },
  "language_info": {
   "codemirror_mode": {
    "name": "ipython",
    "version": 3
   },
   "file_extension": ".py",
   "mimetype": "text/x-python",
   "name": "python",
   "nbconvert_exporter": "python",
   "pygments_lexer": "ipython3",
   "version": "3.10.12"
  },
  "vscode": {
   "interpreter": {
    "hash": "31f2aee4e71d21fbe5cf8b01ff0e069b9275f58929596ceb00d14d90e3e16cd6"
   }
  }
 },
 "nbformat": 4,
 "nbformat_minor": 4
}
